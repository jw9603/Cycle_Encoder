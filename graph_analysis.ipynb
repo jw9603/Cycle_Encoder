{
 "cells": [
  {
   "cell_type": "markdown",
   "metadata": {},
   "source": [
    "### total graph그리기\n",
    "1. context, q, a node가 들어있는 사이클만 포함\n",
    "2. context 노드는 보라색, question 노드는 파란색, answer 노드는 빨간색, other 노드는 회색"
   ]
  },
  {
   "cell_type": "code",
   "execution_count": null,
   "metadata": {},
   "outputs": [],
   "source": [
    "## 사이클 리스트 가져오기\n",
    "a = [{9: [17, 10, 7]}, {9: [5, 25, 10]}, {9: [46, 37, 25]}, {9: [18, 37, 25]}, {9: [1, 37, 25]}, {9: [4, 37, 25]}, {9: [26, 37, 25]}, {9: [18, 29, 37]}, {9: [4, 29, 37]}, {9: [1, 29, 37]}, {9: [26, 29, 37]}, {9: [18, 36, 29]}, {9: [1, 36, 29]}, {9: [4, 36, 29]}, {9: [26, 36, 29]}, {9: [4, 34, 36]}, {9: [5, 16, 34]}, {9: [17, 16, 34]}, {9: [4, 16, 34]}, {9: [4, 35, 29]}, {9: [18, 35, 29]}, {9: [26, 35, 29]}, {9: [1, 35, 29]}, {9: [46, 18, 25]}, {9: [32, 18, 25]}, {9: [1, 18, 25]}, {9: [22, 18, 25]}, {9: [26, 18, 25]}, {9: [4, 18, 25]}, {9: [5, 18, 25]}, {9: [19, 18, 25]}, {9: [21, 18, 25]}, {9: [3, 41, 42]}, {9: [8, 41, 42]}, {9: [4, 28, 18]}, {9: [19, 28, 18]}, {9: [1, 28, 18]}, {9: [20, 28, 18]}, {9: [26, 28, 18]}, {9: [32, 28, 18]}, {9: [1, 45, 18]}, {9: [21, 45, 18]}, {9: [27, 45, 18]}, {9: [44, 45, 18]}, {9: [26, 45, 18]}, {9: [19, 20, 18]}, {9: [46, 20, 18]}, {9: [4, 20, 18]}, {9: [1, 20, 18]}, {9: [17, 20, 18]}, {9: [22, 20, 18]}, {9: [26, 20, 18]}, {9: [46, 44, 18]}, {9: [1, 44, 18]}, {9: [4, 44, 18]}, {9: [26, 44, 18]}, {9: [4, 11, 44]}, {9: [46, 11, 44]}, {9: [1, 11, 44]}, {9: [26, 11, 44]}, {9: [1, 46, 25]}, {9: [32, 46, 25]}, {9: [4, 46, 25]}, {9: [21, 46, 25]}, {9: [26, 46, 25]}, {9: [4, 32, 25]}, {9: [1, 32, 25]}, {9: [21, 32, 25]}, {9: [26, 32, 25]}, {9: [4, 22, 25]}, {9: [1, 22, 25]}, {9: [26, 22, 25]}, {9: [17, 8, 7]}, {9: [31, 38, 7]}, {9: [1, 39, 33]}, {9: [26, 31, 7]}, {9: [15, 31, 7]}, {9: [24, 31, 7]}, {9: [21, 27, 7]}, {9: [26, 27, 7]}, {9: [5, 12, 27]}, {9: [21, 26, 7]}, {9: [19, 26, 7]}, {9: [17, 26, 7]}, {9: [21, 23, 7]}, {9: [17, 19, 7]}, {9: [3, 5, 0]}, {9: [3, 14, 5]}, {9: [3, 9, 5]}, {9: [3, 13, 5]}, {9: [1, 4, 0]}]\n",
    "node_list=[]\n",
    "## qagnn의 사이클 리스트\n",
    "# a1 = [{9: [1, 7, 0]}, {9: [24, 9, 7]}, {9: [6, 57, 61]}, {9: [3, 55, 52]}, {9: [10, 55, 52]}, {9: [5, 25, 55]}, {9: [10, 25, 55]}, {9: [32, 42, 25]}, {9: [4, 42, 25]}, {9: [5, 42, 25]}, {9: [6, 42, 25]}, {9: [22, 42, 25]}, {9: [26, 42, 25]}, {9: [29, 42, 25]}, {9: [1, 42, 25]}, {9: [49, 42, 25]}, {9: [53, 42, 25]}, {9: [35, 42, 25]}, {9: [32, 59, 42]}, {9: [1, 59, 42]}, {9: [27, 59, 42]}, {9: [33, 59, 42]}, {9: [47, 59, 42]}, {9: [47, 18, 42]}, {9: [4, 18, 42]}, {9: [53, 18, 42]}, {9: [1, 18, 42]}, {9: [32, 46, 42]}, {9: [41, 46, 42]}, {9: [1, 46, 42]}, {9: [4, 46, 42]}, {9: [36, 46, 42]}, {9: [44, 46, 42]}, {9: [53, 46, 42]}, {9: [35, 39, 42]}, {9: [41, 39, 42]}, {9: [53, 39, 42]}, {9: [32, 39, 42]}, {9: [49, 39, 42]}, {9: [5, 39, 42]}, {9: [29, 39, 42]}, {9: [1, 39, 42]}, {9: [4, 39, 42]}, {9: [27, 39, 42]}, {9: [41, 38, 42]}, {9: [4, 38, 42]}, {9: [27, 38, 42]}, {9: [32, 38, 42]}, {9: [36, 38, 42]}, {9: [1, 38, 42]}, {9: [27, 33, 42]}, {9: [32, 33, 42]}, {9: [4, 33, 42]}, {9: [5, 33, 42]}, {9: [6, 33, 42]}, {9: [1, 33, 42]}, {9: [1, 50, 33]}, {9: [4, 50, 33]}, {9: [27, 50, 33]}, {9: [5, 20, 33]}, {9: [1, 44, 42]}, {9: [32, 44, 42]}, {9: [6, 44, 42]}, {9: [1, 54, 44]}, {9: [6, 54, 44]}, {9: [6, 23, 44]}, {9: [1, 23, 44]}, {9: [32, 23, 44]}, {9: [53, 49, 25]}, {9: [32, 49, 25]}, {9: [1, 49, 25]}, {9: [4, 49, 25]}, {9: [29, 26, 25]}, {9: [53, 26, 25]}, {9: [32, 26, 25]}, {9: [4, 26, 25]}, {9: [1, 26, 25]}, {9: [35, 26, 25]}, {9: [5, 12, 25]}, {9: [6, 12, 25]}, {9: [5, 48, 25]}, {9: [4, 48, 25]}, {9: [22, 48, 25]}, {9: [22, 35, 25]}, {9: [32, 35, 25]}, {9: [4, 35, 25]}, {9: [1, 35, 25]}, {9: [6, 29, 25]}, {9: [5, 29, 25]}, {9: [22, 29, 25]}, {9: [1, 29, 25]}, {9: [32, 29, 25]}, {9: [5, 22, 25]}, {9: [4, 22, 25]}, {9: [32, 22, 25]}, {9: [32, 53, 25]}, {9: [1, 53, 25]}, {9: [4, 53, 25]}, {9: [1, 41, 57]}, {9: [37, 41, 57]}, {9: [1, 37, 57]}, {9: [1, 36, 57]}, {9: [1, 47, 57]}, {9: [6, 43, 61]}, {9: [24, 56, 7]}, {9: [31, 56, 7]}, {9: [58, 56, 7]}, {9: [1, 45, 7]}, {9: [27, 34, 7]}, {9: [31, 34, 7]}, {9: [16, 34, 7]}, {9: [1, 30, 7]}, {9: [27, 30, 7]}, {9: [24, 30, 7]}, {9: [1, 24, 7]}, {9: [27, 24, 7]}, {9: [1, 15, 7]}, {9: [11, 15, 7]}, {9: [1, 13, 7]}, {9: [1, 11, 7]}, {9: [1, 27, 7]}, {9: [31, 27, 7]}, {9: [3, 5, 0]}, {9: [3, 14, 5]}, {9: [3, 19, 5]}, {9: [1, 4, 0]}]\n",
    "# node_list1= []\n",
    "# print(len(a1))"
   ]
  },
  {
   "cell_type": "code",
   "execution_count": null,
   "metadata": {},
   "outputs": [],
   "source": [
    "## 사이클 리스트에 들어있지 않는 노드들 제외하는 부분\n",
    "ii = []\n",
    "for i in range(200):\n",
    "    if i==2 or i == 6 or i == 30 or i==40 or i==43 or i==47 or i>=48: \n",
    "        continue\n",
    "    else:\n",
    "        ii.append(i)\n",
    "print(ii)"
   ]
  },
  {
   "attachments": {},
   "cell_type": "markdown",
   "metadata": {},
   "source": [
    "#### Cycle encoder의 전체 그래프 그리는 부분"
   ]
  },
  {
   "cell_type": "code",
   "execution_count": null,
   "metadata": {},
   "outputs": [],
   "source": [
    "## context, question, answer 노드가 없는 사이클은 제외하는 부분(\n",
    "for i in range(len(a)):\n",
    "                                        # a0,a1,a2,... a46 바꾸기\n",
    "    if list(a[i].keys())==[9]:          # [?] : ?안에 들어가는 값은 계속해서 수동적으로 바꿔줘야함 -> 0~46 \n",
    "        node_list.append(a[i].get(9))  # node_list0,1,...46 바꾸기\n",
    "    else:\n",
    "        continue\n",
    "real_node = []\n",
    "for i in range(len(node_list)):\n",
    "    if 0 in node_list[i] or 1 in node_list[i] or 2 in node_list[i] or 3 in node_list[i] or 4 in node_list[i] or 5 in node_list[i] or 6 in node_list[i] or 7 in node_list[i] or 8 in node_list[i] or 9 in node_list[i] or 10 in node_list[i] or 11 in node_list[i] or 12 in node_list[i] or 13 in node_list[i] or 14 in node_list[i]: \n",
    "        real_node.append(node_list[i])\n",
    "    else:\n",
    "        continue\n",
    "print(real_node)\n",
    "print(len(real_node))\n"
   ]
  },
  {
   "cell_type": "code",
   "execution_count": null,
   "metadata": {},
   "outputs": [],
   "source": [
    "## 전체 그래프 그리기\n",
    "import networkx as nx\n",
    "\n",
    "g = nx.Graph()\n",
    "g.add_nodes_from([0, 1, 2, 3, 4, 5, 7, 8, 10, 11, 12, 13, 14, 15, 16, 17, 18, 20, 21, 23, 24, 25, 26, 27, 28, 29, 30, 31, 32, 33, 34, 35, 36, 37, 38, 39, 40, 41, 43, 44, 45, 46, 47, 48, 49, 50, 51, 52, 53, 54, 55, 56, 58, 60, 61, 62, 63, 64, 65, 66, 67, 68, 69, 71, 73, 74, 75, 76, 77, 78, 79, 80, 81, 82, 83, 84, 85, 86, 87, 88, 89, 90, 91, 92, 93, 94, 95, 96, 97, 98, 99, 100, 101, 102, 103, 104, 105, 106, 107, 108, 109, 110, 112, 113, 114, 115, 116, 117, 118, 119, 120, 122, 123, 124, 125, 126, 127, 128, 129, 130, 131, 132, 133, 134, 135, 136, 137, 138, 139, 140, 141, 142, 143, 144, 145, 146, 147, 148, 149, 150, 151, 152, 153, 154, 155, 156, 157, 158, 159, 161, 162, 163, 164, 165, 166, 167, 169, 170, 171, 172, 173, 174, 175, 176, 177, 178, 179, 180, 181, 182, 183, 184, 185, 186, 187, 188, 190, 191, 192, 193, 195, 196, 197, 198, 199])\n",
    "color_map = []\n",
    "for node in g:\n",
    "        if node == 0:\n",
    "            color_map.append('#800080') #purple\n",
    "        elif node >= 1 and node <= 10:\n",
    "            color_map.append('#0000FF')      # blue\n",
    "        elif node >= 11 and node <= 14:\n",
    "            color_map.append('#FF0000')    # red\n",
    "        else:\n",
    "            color_map.append('#808080')         # gray\n",
    "for i in range(len(real_node)):\n",
    "    g.add_edges_from([(real_node[i][0],real_node[i][1]),(real_node[i][0],real_node[i][2]),(real_node[i][1],real_node[i][2])])\n",
    "# g.add_edges_from([(6,44),(44,100),(100,6),(44,28),(28,6),(6,44),(2,30),(30,86),(86,2),(6,81),(81,6)])\n",
    "pos = nx.kamada_kawai_layout(g)\n",
    "# pos = nx.random_layout(g)\n",
    "print(len(color_map))\n",
    "nx.draw(g,pos=pos,node_color=color_map,with_labels=True)"
   ]
  },
  {
   "attachments": {},
   "cell_type": "markdown",
   "metadata": {},
   "source": [
    "#### QA-GNN의 전체 그래프 그리는 부분"
   ]
  },
  {
   "cell_type": "code",
   "execution_count": null,
   "metadata": {},
   "outputs": [],
   "source": [
    "## context, question, answer 노드가 없는 사이클은 제외하는 부분(\n",
    "for i in range(len(a1)):\n",
    "                                        # a0,a1,a2,... a46 바꾸기\n",
    "    if list(a1[i].keys())==[9]:          # [?] : ?안에 들어가는 값은 계속해서 수동적으로 바꿔줘야함 -> 0~46 \n",
    "        node_list.append(a1[i].get(9))  # node_list0,1,...46 바꾸기\n",
    "    else:\n",
    "        continue\n",
    "real_node = []\n",
    "for i in range(len(node_list)):\n",
    "    if 0 in node_list[i] or 1 in node_list[i] or 2 in node_list[i] or 3 in node_list[i] or 4 in node_list[i] or 5 in node_list[i] or 6 in node_list[i] or 7 in node_list[i] or 8 in node_list[i] or 9 in node_list[i] or 10 in node_list[i] or 11 in node_list[i] or 12 in node_list[i] or 13 in node_list[i] or 14 in node_list[i]: \n",
    "        real_node.append(node_list[i])\n",
    "    else:\n",
    "        continue\n",
    "print(real_node)\n",
    "print(len(real_node))"
   ]
  },
  {
   "cell_type": "code",
   "execution_count": null,
   "metadata": {},
   "outputs": [],
   "source": [
    "## 전체 그래프 그리기\n",
    "import networkx as nx\n",
    "\n",
    "g = nx.Graph()\n",
    "g.add_nodes_from([0, 1, 2, 3, 4, 5, 7, 8, 10, 11, 12, 13, 14, 15, 16, 17, 18, 20, 21, 23, 24, 25, 26, 27, 28, 29, 30, 31, 32, 33, 34, 35, 36, 37, 38, 39, 40, 41, 43, 44, 45, 46, 47, 48, 49, 50, 51, 52, 53, 54, 55, 56, 58, 60, 61, 62, 63, 64, 65, 66, 67, 68, 69, 71, 73, 74, 75, 76, 77, 78, 79, 80, 81, 82, 83, 84, 85, 86, 87, 88, 89, 90, 91, 92, 93, 94, 95, 96, 97, 98, 99, 100, 101, 102, 103, 104, 105, 106, 107, 108, 109, 110, 112, 113, 114, 115, 116, 117, 118, 119, 120, 122, 123, 124, 125, 126, 127, 128, 129, 130, 131, 132, 133, 134, 135, 136, 137, 138, 139, 140, 141, 142, 143, 144, 145, 146, 147, 148, 149, 150, 151, 152, 153, 154, 155, 156, 157, 158, 159, 161, 162, 163, 164, 165, 166, 167, 169, 170, 171, 172, 173, 174, 175, 176, 177, 178, 179, 180, 181, 182, 183, 184, 185, 186, 187, 188, 190, 191, 192, 193, 195, 196, 197, 198, 199])\n",
    "color_map = []\n",
    "for node in g:\n",
    "        if node == 0:\n",
    "            color_map.append('#800080') #purple\n",
    "        elif node >= 1 and node <= 10:\n",
    "            color_map.append('#0000FF')      # blue\n",
    "        elif node >= 11 and node <= 14:\n",
    "            color_map.append('#FF0000')    # red\n",
    "        else:\n",
    "            color_map.append('#808080')         # gray\n",
    "for i in range(len(real_node)):\n",
    "    g.add_edges_from([(real_node[i][0],real_node[i][1]),(real_node[i][0],real_node[i][2]),(real_node[i][1],real_node[i][2])])\n",
    "# g.add_edges_from([(6,44),(44,100),(100,6),(44,28),(28,6),(6,44),(2,30),(30,86),(86,2),(6,81),(81,6)])\n",
    "pos = nx.kamada_kawai_layout(g)\n",
    "# pos = nx.random_layout(g)\n",
    "print(len(color_map))\n",
    "nx.draw(g,pos=pos,node_color=color_map,with_labels=True)"
   ]
  },
  {
   "attachments": {},
   "cell_type": "markdown",
   "metadata": {},
   "source": [
    "### detected cycle(Q, C, 정답 A) with text, color\n",
    "    - 이것은 사이클에 q,c,a가 하나라도 속한 경우"
   ]
  },
  {
   "cell_type": "code",
   "execution_count": null,
   "metadata": {},
   "outputs": [],
   "source": [
    "import networkx as nx\n",
    "a = [{9: [17, 10, 7]}, {9: [5, 25, 10]}, {9: [46, 37, 25]}, {9: [18, 37, 25]}, {9: [1, 37, 25]}, {9: [4, 37, 25]}, {9: [26, 37, 25]}, {9: [18, 29, 37]}, {9: [4, 29, 37]}, {9: [1, 29, 37]}, {9: [26, 29, 37]}, {9: [18, 36, 29]}, {9: [1, 36, 29]}, {9: [4, 36, 29]}, {9: [26, 36, 29]}, {9: [4, 34, 36]}, {9: [5, 16, 34]}, {9: [17, 16, 34]}, {9: [4, 16, 34]}, {9: [4, 35, 29]}, {9: [18, 35, 29]}, {9: [26, 35, 29]}, {9: [1, 35, 29]}, {9: [46, 18, 25]}, {9: [32, 18, 25]}, {9: [1, 18, 25]}, {9: [22, 18, 25]}, {9: [26, 18, 25]}, {9: [4, 18, 25]}, {9: [5, 18, 25]}, {9: [19, 18, 25]}, {9: [21, 18, 25]}, {9: [3, 41, 42]}, {9: [8, 41, 42]}, {9: [4, 28, 18]}, {9: [19, 28, 18]}, {9: [1, 28, 18]}, {9: [20, 28, 18]}, {9: [26, 28, 18]}, {9: [32, 28, 18]}, {9: [1, 45, 18]}, {9: [21, 45, 18]}, {9: [27, 45, 18]}, {9: [44, 45, 18]}, {9: [26, 45, 18]}, {9: [19, 20, 18]}, {9: [46, 20, 18]}, {9: [4, 20, 18]}, {9: [1, 20, 18]}, {9: [17, 20, 18]}, {9: [22, 20, 18]}, {9: [26, 20, 18]}, {9: [46, 44, 18]}, {9: [1, 44, 18]}, {9: [4, 44, 18]}, {9: [26, 44, 18]}, {9: [4, 11, 44]}, {9: [46, 11, 44]}, {9: [1, 11, 44]}, {9: [26, 11, 44]}, {9: [1, 46, 25]}, {9: [32, 46, 25]}, {9: [4, 46, 25]}, {9: [21, 46, 25]}, {9: [26, 46, 25]}, {9: [4, 32, 25]}, {9: [1, 32, 25]}, {9: [21, 32, 25]}, {9: [26, 32, 25]}, {9: [4, 22, 25]}, {9: [1, 22, 25]}, {9: [26, 22, 25]}, {9: [17, 8, 7]}, {9: [31, 38, 7]}, {9: [1, 39, 33]}, {9: [26, 31, 7]}, {9: [15, 31, 7]}, {9: [24, 31, 7]}, {9: [21, 27, 7]}, {9: [26, 27, 7]}, {9: [5, 12, 27]}, {9: [21, 26, 7]}, {9: [19, 26, 7]}, {9: [17, 26, 7]}, {9: [21, 23, 7]}, {9: [17, 19, 7]}, {9: [3, 5, 0]}, {9: [3, 14, 5]}, {9: [3, 9, 5]}, {9: [3, 13, 5]}, {9: [1, 4, 0]}]\n",
    "node_list=[]"
   ]
  },
  {
   "cell_type": "code",
   "execution_count": null,
   "metadata": {},
   "outputs": [],
   "source": [
    "########################## context, question, answer 노드가 없는 사이클은 제외하는 부분 #####################################\n",
    "for i in range(len(a)):\n",
    "                                        # a0,a1,a2,... a46 바꾸기\n",
    "    if list(a[i].keys())==[9]:          # [?] : ?안에 들어가는 값은 계속해서 수동적으로 바꿔줘야함 -> 0~46 \n",
    "        node_list.append(a[i].get(9))  # node_list0,1,...46 바꾸기\n",
    "    else:\n",
    "        continue\n",
    "real_node = []\n",
    "for i in range(len(node_list)):\n",
    "    if 0 in node_list[i] or 1 in node_list[i] or 2 in node_list[i] or 3 in node_list[i] or 4 in node_list[i] or 5 in node_list[i] or 6 in node_list[i] or 7 in node_list[i]: \n",
    "        real_node.append(node_list[i])\n",
    "    else:\n",
    "        continue\n",
    "# print(real_node)\n",
    "print(len(real_node))"
   ]
  },
  {
   "cell_type": "code",
   "execution_count": null,
   "metadata": {},
   "outputs": [],
   "source": [
    "############################# detected Cycle(Q, C, 정답 A) with text, color########################\n",
    "import matplotlib.pyplot as plt\n",
    "\n",
    "fig, all_axes = plt.subplots(6,10,figsize=(150,100))\n",
    "ax = all_axes.flat\n",
    "\n",
    "graph_list=[]\n",
    "node_name = ['context','berries','berry','eat','eaten','may','bear','person','other node']\n",
    "\n",
    "for i in range(len(real_node)):        # node_list0,1,2,,.. 46\n",
    "    # ax = fig.add_subplot(2,1,i+1)\n",
    "    g = nx.Graph()\n",
    "    color_map = []\n",
    "    for j in range(3):\n",
    "        g.add_nodes_from([(real_node[i][j],{'text':''})])# node_list0,1,2,,.. 46\n",
    "\n",
    "  \n",
    "  \n",
    "    g.add_edges_from([(real_node[i][0],real_node[i][1]),(real_node[i][0],real_node[i][2]),(real_node[i][1],real_node[i][2])])\n",
    "    # plt.subplot(2,1,i+1)\n",
    "   \n",
    "    pos = nx.spring_layout(g)\n",
    "    for node in g:\n",
    "        if node == 0:\n",
    "            color_map.append('#800080') #purple\n",
    "            \n",
    "        elif node >= 1 and node <= 5:\n",
    "            color_map.append('#0000FF')      # blue\n",
    "        elif node >= 6 and node <= 7:\n",
    "            color_map.append('#FF0000')    # red\n",
    "        else:\n",
    "            color_map.append('#808080')         # gray\n",
    "    for kk in g.nodes.data():\n",
    "        if kk[0] == 0:\n",
    "            kk[1]['text'] = node_name[0]\n",
    "        elif kk[0] == 1:\n",
    "            kk[1]['text'] = node_name[1]\n",
    "        elif kk[0] == 2:\n",
    "            kk[1]['text'] = node_name[2]\n",
    "        elif kk[0] == 3:\n",
    "            kk[1]['text'] = node_name[3]\n",
    "        elif kk[0] == 4:\n",
    "            kk[1]['text'] = node_name[4]\n",
    "        elif kk[0] == 5:\n",
    "            kk[1]['text'] = node_name[5]\n",
    "        elif kk[0] == 6:\n",
    "            kk[1]['text'] = node_name[6]\n",
    "        elif kk [0] == 7:\n",
    "            kk[1]['text'] = node_name[7]\n",
    "        else:\n",
    "            kk[1]['text'] = node_name[8]\n",
    "    # for kkk in g.nodes.data():\n",
    "    #     print(kkk) \n",
    "    # for n,d in g.nodes(data=True):\n",
    "    #     print('n',n)\n",
    "    #     print('d',d)\n",
    "    node_labels={n:(d['text']) for n,d in g.nodes(data=True)}\n",
    "    if i < 51: # len(real_node)\n",
    "        nx.draw(g,pos=pos,with_labels=True,ax=ax[i],node_size=1000,node_color=color_map,font_color=\"white\",font_weight='bold')\n",
    "        nx.draw_networkx_labels(g,alpha=1.0,ax=ax[i],labels=node_labels,bbox=dict(facecolor='green',alpha=0.1),pos=pos,verticalalignment='bottom',font_size=20,font_color='black')\n",
    "    else:\n",
    "        plt.plot\n",
    "for a in ax:\n",
    "    a.margins(0.2)\n",
    "fig.tight_layout()\n",
    "plt.savefig('output9_detected(caq).pdf')\n",
    "plt.show()"
   ]
  },
  {
   "attachments": {},
   "cell_type": "markdown",
   "metadata": {},
   "source": [
    "### detected cycle(Q, C, 정답 A,other node) with text, color\n",
    "    - 이것은 모든 사이클"
   ]
  },
  {
   "cell_type": "code",
   "execution_count": null,
   "metadata": {},
   "outputs": [],
   "source": [
    "import networkx as nx\n",
    "a = [{9: [17, 10, 7]}, {9: [5, 25, 10]}, {9: [46, 37, 25]}, {9: [18, 37, 25]}, {9: [1, 37, 25]}, {9: [4, 37, 25]}, {9: [26, 37, 25]}, {9: [18, 29, 37]}, {9: [4, 29, 37]}, {9: [1, 29, 37]}, {9: [26, 29, 37]}, {9: [18, 36, 29]}, {9: [1, 36, 29]}, {9: [4, 36, 29]}, {9: [26, 36, 29]}, {9: [4, 34, 36]}, {9: [5, 16, 34]}, {9: [17, 16, 34]}, {9: [4, 16, 34]}, {9: [4, 35, 29]}, {9: [18, 35, 29]}, {9: [26, 35, 29]}, {9: [1, 35, 29]}, {9: [46, 18, 25]}, {9: [32, 18, 25]}, {9: [1, 18, 25]}, {9: [22, 18, 25]}, {9: [26, 18, 25]}, {9: [4, 18, 25]}, {9: [5, 18, 25]}, {9: [19, 18, 25]}, {9: [21, 18, 25]}, {9: [3, 41, 42]}, {9: [8, 41, 42]}, {9: [4, 28, 18]}, {9: [19, 28, 18]}, {9: [1, 28, 18]}, {9: [20, 28, 18]}, {9: [26, 28, 18]}, {9: [32, 28, 18]}, {9: [1, 45, 18]}, {9: [21, 45, 18]}, {9: [27, 45, 18]}, {9: [44, 45, 18]}, {9: [26, 45, 18]}, {9: [19, 20, 18]}, {9: [46, 20, 18]}, {9: [4, 20, 18]}, {9: [1, 20, 18]}, {9: [17, 20, 18]}, {9: [22, 20, 18]}, {9: [26, 20, 18]}, {9: [46, 44, 18]}, {9: [1, 44, 18]}, {9: [4, 44, 18]}, {9: [26, 44, 18]}, {9: [4, 11, 44]}, {9: [46, 11, 44]}, {9: [1, 11, 44]}, {9: [26, 11, 44]}, {9: [1, 46, 25]}, {9: [32, 46, 25]}, {9: [4, 46, 25]}, {9: [21, 46, 25]}, {9: [26, 46, 25]}, {9: [4, 32, 25]}, {9: [1, 32, 25]}, {9: [21, 32, 25]}, {9: [26, 32, 25]}, {9: [4, 22, 25]}, {9: [1, 22, 25]}, {9: [26, 22, 25]}, {9: [17, 8, 7]}, {9: [31, 38, 7]}, {9: [1, 39, 33]}, {9: [26, 31, 7]}, {9: [15, 31, 7]}, {9: [24, 31, 7]}, {9: [21, 27, 7]}, {9: [26, 27, 7]}, {9: [5, 12, 27]}, {9: [21, 26, 7]}, {9: [19, 26, 7]}, {9: [17, 26, 7]}, {9: [21, 23, 7]}, {9: [17, 19, 7]}, {9: [3, 5, 0]}, {9: [3, 14, 5]}, {9: [3, 9, 5]}, {9: [3, 13, 5]}, {9: [1, 4, 0]}]\n",
    "node_list=[]"
   ]
  },
  {
   "cell_type": "code",
   "execution_count": null,
   "metadata": {},
   "outputs": [],
   "source": [
    "for i in range(len(a)):\n",
    "                                        # a0,a1,a2,... a46 바꾸기\n",
    "    if list(a[i].keys())==[9]:          # [?] : ?안에 들어가는 값은 계속해서 수동적으로 바꿔줘야함 -> 0~46 \n",
    "        node_list.append(a[i].get(9))  # node_list0,1,...46 바꾸기\n",
    "    else:\n",
    "        continue\n",
    "print(node_list)\n",
    "print(len(node_list))"
   ]
  },
  {
   "cell_type": "code",
   "execution_count": null,
   "metadata": {},
   "outputs": [],
   "source": [
    "############################# detected Cycle(Q, C, 정답 A,other node) with text, color########################\n",
    "import matplotlib.pyplot as plt\n",
    "\n",
    "fig, all_axes = plt.subplots(10,10,figsize=(150,100))\n",
    "ax = all_axes.flat\n",
    "\n",
    "graph_list=[]\n",
    "node_name = ['context','berries','berry','eat','eaten','may','bear','person','other node']\n",
    "\n",
    "for i in range(len(node_list)):        # node_list0,1,2,,.. 46\n",
    "    # ax = fig.add_subplot(2,1,i+1)\n",
    "    g = nx.Graph()\n",
    "    color_map = []\n",
    "    for j in range(3):\n",
    "        g.add_nodes_from([(node_list[i][j],{'text':''})])# node_list0,1,2,,.. 46\n",
    "\n",
    "  \n",
    "  \n",
    "    g.add_edges_from([(node_list[i][0],node_list[i][1]),(node_list[i][0],node_list[i][2]),(node_list[i][1],node_list[i][2])])\n",
    "    # plt.subplot(2,1,i+1)\n",
    "   \n",
    "    pos = nx.spring_layout(g)\n",
    "    ############### context, question ,answer node개수만큼 ############\n",
    "    for node in g:\n",
    "        if node == 0:\n",
    "            color_map.append('#800080') #purple\n",
    "            \n",
    "        elif node >= 1 and node <= 5:\n",
    "            color_map.append('#0000FF')      # blue\n",
    "        elif node >= 6 and node <= 7:\n",
    "            color_map.append('#FF0000')    # red\n",
    "        else:\n",
    "            color_map.append('#808080')         # gray\n",
    "    for kk in g.nodes.data(): \n",
    "        if kk[0] == 0:\n",
    "            kk[1]['text'] = node_name[0]\n",
    "        elif kk[0] == 1:\n",
    "            kk[1]['text'] = node_name[1]\n",
    "        elif kk[0] == 2:\n",
    "            kk[1]['text'] = node_name[2]\n",
    "        elif kk[0] == 3:\n",
    "            kk[1]['text'] = node_name[3]\n",
    "        elif kk[0] == 4:\n",
    "            kk[1]['text'] = node_name[4]\n",
    "        elif kk[0] == 5:\n",
    "            kk[1]['text'] = node_name[5]\n",
    "        elif kk[0] == 6:\n",
    "            kk[1]['text'] = node_name[6]\n",
    "        elif kk [0] == 7:\n",
    "            kk[1]['text'] = node_name[7]\n",
    "        else:\n",
    "            kk[1]['text'] = node_name[8]\n",
    "    ############### context, question ,answer node개수만큼 ############\n",
    "    node_labels={n:(d['text']) for n,d in g.nodes(data=True)}\n",
    "    if i < 91: # len(real_node)or len(node_list)\n",
    "        nx.draw(g,pos=pos,with_labels=True,ax=ax[i],node_size=1000,node_color=color_map,font_color=\"white\",font_weight='bold')\n",
    "        nx.draw_networkx_labels(g,alpha=1.0,ax=ax[i],labels=node_labels,bbox=dict(facecolor='green',alpha=0.1),pos=pos,verticalalignment='bottom',font_size=17,font_color='black')\n",
    "    else:\n",
    "        plt.plot\n",
    "for a in ax:\n",
    "    a.margins(0.2)\n",
    "fig.tight_layout()\n",
    "plt.savefig('output9_detected(cqao).pdf')\n",
    "plt.show()"
   ]
  }
 ],
 "metadata": {
  "kernelspec": {
   "display_name": "Python 3",
   "language": "python",
   "name": "python3"
  },
  "language_info": {
   "codemirror_mode": {
    "name": "ipython",
    "version": 3
   },
   "file_extension": ".py",
   "mimetype": "text/x-python",
   "name": "python",
   "nbconvert_exporter": "python",
   "pygments_lexer": "ipython3",
   "version": "3.7.16"
  },
  "orig_nbformat": 4,
  "vscode": {
   "interpreter": {
    "hash": "8addaabea1cb039ebd0cad50c57d5e545a2dd9c4864cd769240013056fee56e3"
   }
  }
 },
 "nbformat": 4,
 "nbformat_minor": 2
}
